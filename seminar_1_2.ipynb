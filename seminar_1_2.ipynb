{
 "cells": [
  {
   "cell_type": "markdown",
   "id": "edc9b322",
   "metadata": {},
   "source": [
    "# Семинар №1-2. Введение в Python"
   ]
  },
  {
   "cell_type": "markdown",
   "id": "e4cf4ef1-b0bd-4393-ba74-4ebfda3a0e6e",
   "metadata": {},
   "source": [
    "### Переменные\n",
    "Переменные в Python не требуют объявления типа переменной (так как Python – язык с динамической типизацией) и являются ссылками на область памяти. Правила именования переменных:\n",
    "\n",
    "* имя переменной может состоять только из букв, цифр и знака подчёркивания;\n",
    "* имя не может начинаться с цифры;\n",
    "* имя не может содержать специальных символов @, $, %."
   ]
  },
  {
   "cell_type": "markdown",
   "id": "689c43f0",
   "metadata": {},
   "source": [
    "### Основные типы данных и операции над ними"
   ]
  },
  {
   "cell_type": "markdown",
   "id": "e3cbbb09",
   "metadata": {},
   "source": [
    "В Python есть несколько стандартных типов данных:\n",
    "\n",
    "* Numbers (числа) \n",
    "* Strings (строки) \n",
    "* Lists (списки) \n",
    "* Dictionaries (словари) \n",
    "* Tuples (кортежи) \n",
    "* Sets (множества) \n",
    "* Boolean (логический тип данных) \n",
    "\n",
    "Эти типы данных можно, в свою очередь, классифицировать по нескольким признакам:\n",
    "\n",
    "* изменяемые (списки, словари и множества) \n",
    "* неизменяемые (числа, строки и кортежи) \n",
    "* упорядоченные (списки, кортежи, строки и словари) \n",
    "* неупорядоченные (множества)\n"
   ]
  },
  {
   "cell_type": "code",
   "execution_count": null,
   "id": "f357750f",
   "metadata": {},
   "outputs": [],
   "source": [
    "a = 2\n",
    "print(a)"
   ]
  },
  {
   "cell_type": "code",
   "execution_count": null,
   "id": "c9109853",
   "metadata": {},
   "outputs": [],
   "source": [
    "type(a)"
   ]
  },
  {
   "cell_type": "code",
   "execution_count": null,
   "id": "3516c2f5",
   "metadata": {},
   "outputs": [],
   "source": [
    "b = 1.5\n",
    "type(b)"
   ]
  },
  {
   "cell_type": "code",
   "execution_count": null,
   "id": "adee3438",
   "metadata": {},
   "outputs": [],
   "source": [
    "c = 'hello, world!'\n",
    "print(c)"
   ]
  },
  {
   "cell_type": "code",
   "execution_count": null,
   "id": "a12cbe29",
   "metadata": {},
   "outputs": [],
   "source": [
    "print('hello, world!')"
   ]
  },
  {
   "cell_type": "code",
   "execution_count": null,
   "id": "85bd0269",
   "metadata": {},
   "outputs": [],
   "source": [
    "type(c)"
   ]
  },
  {
   "cell_type": "code",
   "execution_count": null,
   "id": "c06f6f13",
   "metadata": {},
   "outputs": [],
   "source": [
    "print(a + b)"
   ]
  },
  {
   "cell_type": "code",
   "execution_count": null,
   "id": "17033d44",
   "metadata": {},
   "outputs": [],
   "source": [
    "print(a + c)"
   ]
  },
  {
   "cell_type": "code",
   "execution_count": null,
   "id": "f7e3e3ac",
   "metadata": {},
   "outputs": [],
   "source": [
    "print(a * c)"
   ]
  },
  {
   "cell_type": "code",
   "execution_count": null,
   "id": "429a4c07",
   "metadata": {},
   "outputs": [],
   "source": [
    "print(c * b)"
   ]
  },
  {
   "cell_type": "code",
   "execution_count": null,
   "id": "3ae78c39",
   "metadata": {},
   "outputs": [],
   "source": [
    "d = '!!!'"
   ]
  },
  {
   "cell_type": "code",
   "execution_count": null,
   "id": "d7909791",
   "metadata": {},
   "outputs": [],
   "source": [
    "print(c + d)"
   ]
  },
  {
   "cell_type": "code",
   "execution_count": null,
   "id": "9b784576",
   "metadata": {},
   "outputs": [],
   "source": [
    "print(c - d)"
   ]
  },
  {
   "cell_type": "markdown",
   "id": "5859deaf",
   "metadata": {},
   "source": [
    "### Упорядоченные типы данных: списки и кортежи\n",
    "Массивы (в частности, списки) используются для хранения нескольких элементов в рамках одного объекта.\n",
    "\n",
    "Список (list) - один из классов массивов для хранения данных (другие три - кортеж (tuple, о нем сегодня тоже поговорим), множество (set) и словарь (dict)).\n",
    "\n",
    "В Питоне списки имеют следующие свойства. Они:\n",
    "* изменяемые (mutable);\n",
    "* упорядоченные (ordered);\n",
    "\n",
    "могут хранить разные элементы разных типов данных.\n",
    "Упорядоченность означает, что каждому из элементов можно присвоить порядковый номер, индекс. В Питоне индексирование начинается с нуля (не с 1)."
   ]
  },
  {
   "cell_type": "code",
   "execution_count": null,
   "id": "fcd70f16",
   "metadata": {},
   "outputs": [],
   "source": [
    "lst = ['Котенок', 'Песик']"
   ]
  },
  {
   "cell_type": "code",
   "execution_count": null,
   "id": "f92d4fe3",
   "metadata": {},
   "outputs": [],
   "source": [
    "type(lst)"
   ]
  },
  {
   "cell_type": "code",
   "execution_count": null,
   "id": "462c4aad",
   "metadata": {},
   "outputs": [],
   "source": [
    "lst = []"
   ]
  },
  {
   "cell_type": "code",
   "execution_count": null,
   "id": "0895a8d2",
   "metadata": {},
   "outputs": [],
   "source": [
    "lst.append(1)\n",
    "lst"
   ]
  },
  {
   "cell_type": "code",
   "execution_count": null,
   "id": "b53ab582",
   "metadata": {},
   "outputs": [],
   "source": [
    "lst.append('1')\n",
    "lst"
   ]
  },
  {
   "cell_type": "code",
   "execution_count": null,
   "id": "f4df4cea",
   "metadata": {},
   "outputs": [],
   "source": [
    "lst.append([1, 2, 3])\n",
    "lst"
   ]
  },
  {
   "cell_type": "markdown",
   "id": "6175c003",
   "metadata": {},
   "source": [
    "### Индексирование массивов\n",
    "Индексирование в Питоне происходит одинаково (для упорядоченных массивов). Правила, которые изложены ниже, справедливы и для строк, и для кортежей. Общие пункты таковы:\n",
    "\n",
    "* индексирование начинается с нуля;\n",
    "* правый конец массива НЕ включается, левый включается;\n",
    "* полная запись выглядит так: [начало:конец:шаг] (означает \"возьми элементы с индексами от <начала> до <конца> с <шагом>\"). Например: [1:9:2] переводится как \"возьми все элементы с индексами от 1 до 9 (не включая)\" с шагом 2;\n",
    "* далеко не всегда необходимо указывать все значения. Если вы ставите только один элемент (например, [4]), то выбирается ОДИН элемент с соответствующим индексом. Если вы ставите два элемента [4:8], то выбираются все элементы с индексами от 4 (включая) до 8 (НЕ включая), а шаг по дефолту 1. Если вы ставите 3 элемента [4:8:2], то все происходит так, как в полной записи;\n",
    "* индексировать можно как слева направо (ниже), так и справа налево. В этом случае индексирование начинается с -1 (и дальше -2, -3 и т. д.);\n",
    "* пустые места (по обе стороны от двоеточий) означают дефолтное значение. По дефолту: старт - первый элемент, финиш - последний элемент, шаг - 1."
   ]
  },
  {
   "cell_type": "code",
   "execution_count": null,
   "id": "8fcb72c5",
   "metadata": {},
   "outputs": [],
   "source": [
    "lst = ['облепиха', 'апельсин', 'персик', 'виноград', 'лимон']"
   ]
  },
  {
   "cell_type": "code",
   "execution_count": null,
   "id": "c7f7a55d",
   "metadata": {},
   "outputs": [],
   "source": [
    "len(lst)"
   ]
  },
  {
   "cell_type": "code",
   "execution_count": null,
   "id": "65921b8c",
   "metadata": {},
   "outputs": [],
   "source": [
    "lst[0]"
   ]
  },
  {
   "cell_type": "code",
   "execution_count": null,
   "id": "f7fffbf7",
   "metadata": {},
   "outputs": [],
   "source": [
    "lst[1:2]"
   ]
  },
  {
   "cell_type": "code",
   "execution_count": null,
   "id": "503928e6",
   "metadata": {},
   "outputs": [],
   "source": [
    "lst[-1]"
   ]
  },
  {
   "cell_type": "code",
   "execution_count": null,
   "id": "bfb68406",
   "metadata": {},
   "outputs": [],
   "source": [
    "lst[::-1]"
   ]
  },
  {
   "cell_type": "code",
   "execution_count": null,
   "id": "90660b9d",
   "metadata": {},
   "outputs": [],
   "source": [
    "lst[::2]"
   ]
  },
  {
   "cell_type": "markdown",
   "id": "a9e3941a",
   "metadata": {},
   "source": [
    "### Логические переменные"
   ]
  },
  {
   "cell_type": "code",
   "execution_count": null,
   "id": "be6aae72",
   "metadata": {},
   "outputs": [],
   "source": [
    "yes = True\n",
    "no = False"
   ]
  },
  {
   "cell_type": "code",
   "execution_count": null,
   "id": "ae93f275",
   "metadata": {},
   "outputs": [],
   "source": [
    "yes + no"
   ]
  },
  {
   "cell_type": "code",
   "execution_count": null,
   "id": "94d3a3b2",
   "metadata": {},
   "outputs": [],
   "source": [
    "no - yes"
   ]
  },
  {
   "cell_type": "code",
   "execution_count": null,
   "id": "770b4b47",
   "metadata": {},
   "outputs": [],
   "source": [
    "yes * no"
   ]
  },
  {
   "cell_type": "markdown",
   "id": "ed2b06bf",
   "metadata": {},
   "source": [
    "### Операторы сравнения в Python:\n",
    "\n",
    "* == - равно\n",
    "* != - не равно\n",
    "* <= - меньше или равно\n",
    "* >= - больше или равно\n",
    "* > - больше\n",
    "* < - меньше"
   ]
  },
  {
   "cell_type": "code",
   "execution_count": null,
   "id": "e554a2fd",
   "metadata": {},
   "outputs": [],
   "source": [
    "1 == '1'"
   ]
  },
  {
   "cell_type": "code",
   "execution_count": null,
   "id": "634c7e78",
   "metadata": {},
   "outputs": [],
   "source": [
    "2 == 1 + 1"
   ]
  },
  {
   "cell_type": "markdown",
   "id": "c45cdf53",
   "metadata": {},
   "source": [
    "### Ввод данных"
   ]
  },
  {
   "cell_type": "code",
   "execution_count": null,
   "id": "ab223bbd",
   "metadata": {},
   "outputs": [],
   "source": [
    "name = input()"
   ]
  },
  {
   "cell_type": "code",
   "execution_count": null,
   "id": "adf8256c",
   "metadata": {},
   "outputs": [],
   "source": [
    "age = input()"
   ]
  },
  {
   "cell_type": "code",
   "execution_count": null,
   "id": "076d5932",
   "metadata": {},
   "outputs": [],
   "source": [
    "print(age * 2)"
   ]
  },
  {
   "cell_type": "code",
   "execution_count": null,
   "id": "bf43f6f5",
   "metadata": {},
   "outputs": [],
   "source": [
    "age2 = int(input())"
   ]
  },
  {
   "cell_type": "code",
   "execution_count": null,
   "id": "496e2962",
   "metadata": {},
   "outputs": [],
   "source": [
    "print(age2 * 2)"
   ]
  },
  {
   "cell_type": "markdown",
   "id": "9e5ecad1",
   "metadata": {},
   "source": [
    "## Условные конструкции"
   ]
  },
  {
   "cell_type": "code",
   "execution_count": null,
   "id": "c9c8c6bf",
   "metadata": {},
   "outputs": [],
   "source": [
    "if age2 > 25:\n",
    "    print('damn...')\n",
    "else:\n",
    "    print('young and beautiful')"
   ]
  },
  {
   "cell_type": "code",
   "execution_count": null,
   "id": "2f8532df",
   "metadata": {},
   "outputs": [],
   "source": [
    "age3 = input()\n",
    "if int(age):\n",
    "    print('type is good')"
   ]
  },
  {
   "cell_type": "markdown",
   "id": "9f150bdb",
   "metadata": {},
   "source": [
    "## Циклы"
   ]
  },
  {
   "cell_type": "code",
   "execution_count": null,
   "id": "b1bd8e4b",
   "metadata": {},
   "outputs": [],
   "source": [
    "while age2 < 25:\n",
    "    print(str(age2) + '! young and beautiful')\n",
    "    age2 = age2 + 1\n",
    "print('damn...')"
   ]
  },
  {
   "cell_type": "code",
   "execution_count": null,
   "id": "c8ab4169",
   "metadata": {},
   "outputs": [],
   "source": [
    "print(*range(10))"
   ]
  },
  {
   "cell_type": "code",
   "execution_count": null,
   "id": "fb0b7639",
   "metadata": {},
   "outputs": [],
   "source": [
    "for i in range(10):\n",
    "    print(i)"
   ]
  },
  {
   "cell_type": "markdown",
   "id": "1e2d8806",
   "metadata": {},
   "source": [
    "### Функции"
   ]
  },
  {
   "cell_type": "code",
   "execution_count": null,
   "id": "191cbf3f",
   "metadata": {},
   "outputs": [],
   "source": [
    "def summa(a, b):\n",
    "    return a + b"
   ]
  },
  {
   "cell_type": "code",
   "execution_count": null,
   "id": "b9b97204",
   "metadata": {},
   "outputs": [],
   "source": [
    "summa(2, 3)"
   ]
  },
  {
   "cell_type": "code",
   "execution_count": null,
   "id": "6faeaa30",
   "metadata": {},
   "outputs": [],
   "source": [
    "def is_kotik(zhivotnoe):\n",
    "    if zhivotnoe == 'котик':\n",
    "        return 'да, это котик'\n",
    "    return 'нет, это не котик, это ' + zhivotnoe + '!'"
   ]
  },
  {
   "cell_type": "code",
   "execution_count": null,
   "id": "bfd15e72",
   "metadata": {},
   "outputs": [],
   "source": [
    "is_kotik('котик')"
   ]
  },
  {
   "cell_type": "code",
   "execution_count": null,
   "id": "16f8c316",
   "metadata": {},
   "outputs": [],
   "source": [
    "is_kotik('песик')"
   ]
  },
  {
   "cell_type": "markdown",
   "id": "2d17046e",
   "metadata": {},
   "source": [
    "## Задачки"
   ]
  },
  {
   "cell_type": "markdown",
   "id": "68d10360",
   "metadata": {},
   "source": [
    "### Задачка 1\n",
    "Выведите все элементы списка меньше 5"
   ]
  },
  {
   "cell_type": "code",
   "execution_count": null,
   "id": "78919a5d",
   "metadata": {},
   "outputs": [],
   "source": [
    "less_than_five = [2, 4, 1, 5, 3, 6, 22, 1, 4, 7]"
   ]
  },
  {
   "cell_type": "markdown",
   "id": "0e242d34",
   "metadata": {},
   "source": [
    "### Задачка 2\n",
    "\n",
    "Вы пытаетесь понять, положена ли вам ПГАС за успешную учебу. В этом году ПГАС за учебу дают всем, чей GPA превышает 9.5 .Напишите программу, которая считывает GPA и выводит в зависимости от его значения \"Ура, Вы получили пегас!\" или \"Не повезло\". Если введенное число будет больше 10, выведите \"Вы совершенно не умеете считать\"."
   ]
  },
  {
   "cell_type": "code",
   "execution_count": null,
   "id": "380c1717",
   "metadata": {},
   "outputs": [],
   "source": []
  },
  {
   "cell_type": "markdown",
   "id": "6fbaf87b",
   "metadata": {},
   "source": [
    "### Задачка 3\n",
    "Для данного числа n<100 закончите фразу “У меня на этой неделе...” одним из возможных продолжений: “n дедлайн”, \"n дедлайна”, “n дедлайнов”, правильно склоняя слово “дедлайн”."
   ]
  },
  {
   "cell_type": "code",
   "execution_count": null,
   "id": "36f47613",
   "metadata": {},
   "outputs": [],
   "source": []
  },
  {
   "cell_type": "markdown",
   "id": "1ed45a4e",
   "metadata": {},
   "source": [
    "### Задачка 4\n",
    "\n",
    "Рамона Флауэрс каждую неделю красит волосы в новый цвет. Обязательное правило: цвет не должен использоваться в предыдущие три недели. Напишите программу, которая будет определять, может ли Рамона использовать какой-либо цвет.\n",
    "\n",
    "ФОРМАТ ВВОДА\n",
    "\n",
    "Три различных названия цвета, которые Рамона использовала ранее, каждое с новой строки. Далее с новой строки название цвета, в который Рамона хочет покраситься на этой неделе.\n",
    "\n",
    "ФОРМАТ ВЫВОДА\n",
    "\n",
    "Если Рамона может использовать цвет, выводится строка \"Красимся!\" Если Рамона не может использовать цвет, выводится строка \"Нужен новый цвет!\""
   ]
  },
  {
   "cell_type": "code",
   "execution_count": null,
   "id": "18db91d8",
   "metadata": {},
   "outputs": [],
   "source": []
  },
  {
   "cell_type": "markdown",
   "id": "f8620260",
   "metadata": {},
   "source": [
    "### Задачка 5\n",
    "\n",
    "Алиса в течение года проверяет, какая температура в Сочи. Она хочет прилететь туда, когда температура там будет либо от +20 до +30 градусов Цельсия включительно, чтобы искупаться в море, либо когда температура будет от -5 до +5 градусов Цельсия включительно, чтобы ездить в горы и кататься на лыжах. Помогите Алисе определить, можно ли лететь в Сочи.\n",
    "\n",
    "ФОРМАТ ВВОДА\n",
    "\n",
    "Целое число — количество градусов по Цельсию в Сочи\n",
    "\n",
    "ФОРМАТ ВЫВОДА\n",
    "\n",
    "Если Алиса может лететь в Сочи, выводится строка \"\"Можно лететь!\"\". Иначе выводится строка \"\"Не время для отпуска\"\"."
   ]
  },
  {
   "cell_type": "code",
   "execution_count": null,
   "id": "9e4b22a6",
   "metadata": {},
   "outputs": [],
   "source": []
  },
  {
   "cell_type": "markdown",
   "id": "798e3259-e561-45a6-9ec5-87ef173429f0",
   "metadata": {},
   "source": [
    "## Работа с табличными данными"
   ]
  },
  {
   "cell_type": "code",
   "execution_count": null,
   "id": "1378125f-f379-418e-9072-62094bc486a4",
   "metadata": {},
   "outputs": [],
   "source": [
    "import pandas as pd\n",
    "import numpy as np\n",
    "from datasets import list_datasets, load_dataset\n",
    "%matplotlib inline"
   ]
  },
  {
   "cell_type": "code",
   "execution_count": null,
   "id": "6c2b5866-9a9a-4c6c-91d9-1e51140d8004",
   "metadata": {},
   "outputs": [],
   "source": [
    "# список готовых датасетов в внутренней библиотеке\n",
    "datasets.list_datasets()"
   ]
  },
  {
   "cell_type": "code",
   "execution_count": null,
   "id": "17814192-b3eb-4b14-9f3d-83e48a1e41d5",
   "metadata": {},
   "outputs": [],
   "source": [
    "df = load_dataset('tweet_eval', 'stance_feminist')"
   ]
  },
  {
   "cell_type": "code",
   "execution_count": null,
   "id": "2a31873d-9e96-42e3-bca1-58e80dbc5c40",
   "metadata": {},
   "outputs": [],
   "source": [
    "df = pd.DataFrame(df['train'])"
   ]
  },
  {
   "cell_type": "code",
   "execution_count": null,
   "id": "7da813ad-b928-41da-b775-75437bcf9168",
   "metadata": {},
   "outputs": [],
   "source": [
    "df.label.value_counts()"
   ]
  },
  {
   "cell_type": "code",
   "execution_count": null,
   "id": "a0dfb3b1-e2ab-4646-92c9-801d51bbab04",
   "metadata": {},
   "outputs": [],
   "source": [
    "# еще один источник датасетов\n",
    "from sklearn.datasets import load_wine"
   ]
  },
  {
   "cell_type": "code",
   "execution_count": null,
   "id": "cd1ca7ef-11c8-4df1-afc4-222e2ee6be19",
   "metadata": {},
   "outputs": [],
   "source": [
    "wine_data = load_wine()"
   ]
  },
  {
   "cell_type": "code",
   "execution_count": null,
   "id": "ce424e25-2adf-48fb-b74c-0cf7dc861ddf",
   "metadata": {},
   "outputs": [],
   "source": [
    "wine_data"
   ]
  },
  {
   "cell_type": "code",
   "execution_count": null,
   "id": "def4cbdf-1946-4f44-9694-311582b15e91",
   "metadata": {},
   "outputs": [],
   "source": [
    "# приводим в адекватный вид\n",
    "df = pd.DataFrame(wine_data['data'], columns=wine_data['feature_names'])"
   ]
  },
  {
   "cell_type": "code",
   "execution_count": null,
   "id": "8d5e0551-19b3-4523-a3b2-dea8637fecd9",
   "metadata": {},
   "outputs": [],
   "source": [
    "df.shape"
   ]
  },
  {
   "cell_type": "code",
   "execution_count": null,
   "id": "4dc99273-dd85-4166-a391-83b84ba7bf55",
   "metadata": {},
   "outputs": [],
   "source": [
    "df['target'] = wine_data['target']"
   ]
  },
  {
   "cell_type": "code",
   "execution_count": null,
   "id": "0d63b384-7549-42cc-bf5f-22e09432cdcb",
   "metadata": {},
   "outputs": [],
   "source": [
    "df.alcohol.hist(bins=50)"
   ]
  },
  {
   "cell_type": "code",
   "execution_count": null,
   "id": "085745ae-3738-4979-9583-406d378581fc",
   "metadata": {},
   "outputs": [],
   "source": [
    "df.target.value_counts()"
   ]
  },
  {
   "cell_type": "code",
   "execution_count": null,
   "id": "3928ff41-0f63-4960-933c-6b947cc2c1c7",
   "metadata": {},
   "outputs": [],
   "source": [
    "df.info()"
   ]
  },
  {
   "cell_type": "code",
   "execution_count": null,
   "id": "609b0a05-671a-4b34-9303-dcbf859873c2",
   "metadata": {},
   "outputs": [],
   "source": [
    "df[df.target == 1].ash.mean()"
   ]
  },
  {
   "cell_type": "code",
   "execution_count": null,
   "id": "042f27b3-e9a6-42b2-94e9-2300c6990bc5",
   "metadata": {},
   "outputs": [],
   "source": [
    "# группируем по значению target и смотрим статистики\n",
    "df.groupby('target').mean()"
   ]
  },
  {
   "cell_type": "code",
   "execution_count": null,
   "id": "e27bdd1f-b355-44bc-a91c-56cd12f89502",
   "metadata": {},
   "outputs": [],
   "source": [
    "# фильтруем данные по значениям столбцов\n",
    "df[(df.alcohol) > 12 & (df.ash < 3)]"
   ]
  },
  {
   "cell_type": "code",
   "execution_count": null,
   "id": "d740d3a0-9d0e-48a5-9ce1-0d769c92a022",
   "metadata": {},
   "outputs": [],
   "source": [
    "# смотрим на отличия loc и iloc\n",
    "df.iloc[0, 1]"
   ]
  },
  {
   "cell_type": "code",
   "execution_count": null,
   "id": "b7611217-92ef-4780-bad5-f97f21fd187c",
   "metadata": {},
   "outputs": [],
   "source": [
    "df.loc[0, 1]"
   ]
  },
  {
   "cell_type": "code",
   "execution_count": null,
   "id": "788b64f8-abaf-46cd-ad28-c7984f1133a3",
   "metadata": {},
   "outputs": [],
   "source": [
    "df.loc[[0, 1]]"
   ]
  },
  {
   "cell_type": "code",
   "execution_count": null,
   "id": "248514a6-bb62-4f72-9037-f6d29c2e1de1",
   "metadata": {},
   "outputs": [],
   "source": [
    "df.iloc[0]"
   ]
  },
  {
   "cell_type": "code",
   "execution_count": null,
   "id": "c143e1e6-9b3f-4173-8ba5-3592943e650f",
   "metadata": {},
   "outputs": [],
   "source": [
    "# создаем игрушечный датасет\n",
    "toy_df = pd.DataFrame([[1, 2], [5, 4, 2], [3, 2]])"
   ]
  },
  {
   "cell_type": "code",
   "execution_count": null,
   "id": "0172a779-c1b9-45c0-8d7f-2f689d46689a",
   "metadata": {},
   "outputs": [],
   "source": [
    "# считаем количество пустых значений по разным осям\n",
    "toy_df.isna().sum(axis=1)"
   ]
  },
  {
   "cell_type": "code",
   "execution_count": null,
   "id": "4724526d-e620-4b09-8468-6c782828bd83",
   "metadata": {},
   "outputs": [],
   "source": [
    "toy_df.isna().sum(axis=0)"
   ]
  },
  {
   "cell_type": "code",
   "execution_count": null,
   "id": "1cc77fd0-0823-4b50-b059-c87247fad2b4",
   "metadata": {},
   "outputs": [],
   "source": []
  }
 ],
 "metadata": {
  "kernelspec": {
   "display_name": "Python 3 (ipykernel)",
   "language": "python",
   "name": "python3"
  },
  "language_info": {
   "codemirror_mode": {
    "name": "ipython",
    "version": 3
   },
   "file_extension": ".py",
   "mimetype": "text/x-python",
   "name": "python",
   "nbconvert_exporter": "python",
   "pygments_lexer": "ipython3",
   "version": "3.8.0"
  }
 },
 "nbformat": 4,
 "nbformat_minor": 5
}
